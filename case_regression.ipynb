{
 "cells": [
  {
   "cell_type": "markdown",
   "metadata": {},
   "source": [
    "#### Aslam Fathin Rahmat"
   ]
  },
  {
   "cell_type": "code",
   "execution_count": 1,
   "metadata": {},
   "outputs": [],
   "source": [
    "#Pemanggilan library\n",
    "import pandas as pd\n",
    "import numpy as np\n",
    "from sklearn.linear_model import LinearRegression\n",
    "from sklearn.model_selection import train_test_split"
   ]
  },
  {
   "cell_type": "code",
   "execution_count": 3,
   "metadata": {},
   "outputs": [
    {
     "data": {
      "text/html": [
       "<div>\n",
       "<style scoped>\n",
       "    .dataframe tbody tr th:only-of-type {\n",
       "        vertical-align: middle;\n",
       "    }\n",
       "\n",
       "    .dataframe tbody tr th {\n",
       "        vertical-align: top;\n",
       "    }\n",
       "\n",
       "    .dataframe thead th {\n",
       "        text-align: right;\n",
       "    }\n",
       "</style>\n",
       "<table border=\"1\" class=\"dataframe\">\n",
       "  <thead>\n",
       "    <tr style=\"text-align: right;\">\n",
       "      <th></th>\n",
       "      <th>TransactionID</th>\n",
       "      <th>CustomerID</th>\n",
       "      <th>Date</th>\n",
       "      <th>ProductID</th>\n",
       "      <th>Price</th>\n",
       "      <th>Qty</th>\n",
       "      <th>TotalAmount</th>\n",
       "      <th>StoreID</th>\n",
       "    </tr>\n",
       "  </thead>\n",
       "  <tbody>\n",
       "    <tr>\n",
       "      <th>0</th>\n",
       "      <td>TR11369</td>\n",
       "      <td>328</td>\n",
       "      <td>01/01/2022</td>\n",
       "      <td>P3</td>\n",
       "      <td>7500</td>\n",
       "      <td>4</td>\n",
       "      <td>30000</td>\n",
       "      <td>12</td>\n",
       "    </tr>\n",
       "    <tr>\n",
       "      <th>1</th>\n",
       "      <td>TR16356</td>\n",
       "      <td>165</td>\n",
       "      <td>01/01/2022</td>\n",
       "      <td>P9</td>\n",
       "      <td>10000</td>\n",
       "      <td>7</td>\n",
       "      <td>70000</td>\n",
       "      <td>1</td>\n",
       "    </tr>\n",
       "    <tr>\n",
       "      <th>2</th>\n",
       "      <td>TR1984</td>\n",
       "      <td>183</td>\n",
       "      <td>01/01/2022</td>\n",
       "      <td>P1</td>\n",
       "      <td>8800</td>\n",
       "      <td>4</td>\n",
       "      <td>35200</td>\n",
       "      <td>4</td>\n",
       "    </tr>\n",
       "    <tr>\n",
       "      <th>3</th>\n",
       "      <td>TR35256</td>\n",
       "      <td>160</td>\n",
       "      <td>01/01/2022</td>\n",
       "      <td>P1</td>\n",
       "      <td>8800</td>\n",
       "      <td>7</td>\n",
       "      <td>61600</td>\n",
       "      <td>4</td>\n",
       "    </tr>\n",
       "    <tr>\n",
       "      <th>4</th>\n",
       "      <td>TR41231</td>\n",
       "      <td>386</td>\n",
       "      <td>01/01/2022</td>\n",
       "      <td>P9</td>\n",
       "      <td>10000</td>\n",
       "      <td>1</td>\n",
       "      <td>10000</td>\n",
       "      <td>4</td>\n",
       "    </tr>\n",
       "  </tbody>\n",
       "</table>\n",
       "</div>"
      ],
      "text/plain": [
       "  TransactionID  CustomerID        Date ProductID  Price  Qty  TotalAmount  \\\n",
       "0       TR11369         328  01/01/2022        P3   7500    4        30000   \n",
       "1       TR16356         165  01/01/2022        P9  10000    7        70000   \n",
       "2        TR1984         183  01/01/2022        P1   8800    4        35200   \n",
       "3       TR35256         160  01/01/2022        P1   8800    7        61600   \n",
       "4       TR41231         386  01/01/2022        P9  10000    1        10000   \n",
       "\n",
       "   StoreID  \n",
       "0       12  \n",
       "1        1  \n",
       "2        4  \n",
       "3        4  \n",
       "4        4  "
      ]
     },
     "execution_count": 3,
     "metadata": {},
     "output_type": "execute_result"
    }
   ],
   "source": [
    "#Import data\n",
    "df = pd.read_csv(\"Case Study - Transaction.csv\",sep=\";\")\n",
    "df.head()"
   ]
  },
  {
   "cell_type": "code",
   "execution_count": 4,
   "metadata": {},
   "outputs": [
    {
     "name": "stdout",
     "output_type": "stream",
     "text": [
      "<class 'pandas.core.frame.DataFrame'>\n",
      "RangeIndex: 5020 entries, 0 to 5019\n",
      "Data columns (total 8 columns):\n",
      " #   Column         Non-Null Count  Dtype \n",
      "---  ------         --------------  ----- \n",
      " 0   TransactionID  5020 non-null   object\n",
      " 1   CustomerID     5020 non-null   int64 \n",
      " 2   Date           5020 non-null   object\n",
      " 3   ProductID      5020 non-null   object\n",
      " 4   Price          5020 non-null   int64 \n",
      " 5   Qty            5020 non-null   int64 \n",
      " 6   TotalAmount    5020 non-null   int64 \n",
      " 7   StoreID        5020 non-null   int64 \n",
      "dtypes: int64(5), object(3)\n",
      "memory usage: 313.9+ KB\n"
     ]
    }
   ],
   "source": [
    "df.info()"
   ]
  }
 ],
 "metadata": {
  "kernelspec": {
   "display_name": "Python 3",
   "language": "python",
   "name": "python3"
  },
  "language_info": {
   "codemirror_mode": {
    "name": "ipython",
    "version": 3
   },
   "file_extension": ".py",
   "mimetype": "text/x-python",
   "name": "python",
   "nbconvert_exporter": "python",
   "pygments_lexer": "ipython3",
   "version": "3.10.4"
  },
  "orig_nbformat": 4
 },
 "nbformat": 4,
 "nbformat_minor": 2
}
