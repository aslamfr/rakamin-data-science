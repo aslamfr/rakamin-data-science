{
 "cells": [
  {
   "cell_type": "markdown",
   "metadata": {},
   "source": [
    "#### Aslam Fathin Rahmat"
   ]
  },
  {
   "cell_type": "code",
   "execution_count": 1,
   "metadata": {},
   "outputs": [
    {
     "name": "stderr",
     "output_type": "stream",
     "text": [
      "c:\\Users\\ACER\\AppData\\Local\\Programs\\Python\\Python310\\lib\\site-packages\\statsforecast\\core.py:25: TqdmWarning: IProgress not found. Please update jupyter and ipywidgets. See https://ipywidgets.readthedocs.io/en/stable/user_install.html\n",
      "  from tqdm.autonotebook import tqdm\n"
     ]
    }
   ],
   "source": [
    "#Pemanggilan library\n",
    "import pandas as pd\n",
    "import numpy as np\n",
    "# from sklearn.linear_model import LinearRegression\n",
    "import matplotlib.pyplot as plt\n",
    "import seaborn as sns\n",
    "import matplotlib.dates as mdates\n",
    "from statsforecast import StatsForecast\n",
    "from statsforecast.models import AutoARIMA"
   ]
  },
  {
   "cell_type": "code",
   "execution_count": 2,
   "metadata": {},
   "outputs": [
    {
     "data": {
      "text/html": [
       "<div>\n",
       "<style scoped>\n",
       "    .dataframe tbody tr th:only-of-type {\n",
       "        vertical-align: middle;\n",
       "    }\n",
       "\n",
       "    .dataframe tbody tr th {\n",
       "        vertical-align: top;\n",
       "    }\n",
       "\n",
       "    .dataframe thead th {\n",
       "        text-align: right;\n",
       "    }\n",
       "</style>\n",
       "<table border=\"1\" class=\"dataframe\">\n",
       "  <thead>\n",
       "    <tr style=\"text-align: right;\">\n",
       "      <th></th>\n",
       "      <th>TransactionID</th>\n",
       "      <th>CustomerID</th>\n",
       "      <th>Date</th>\n",
       "      <th>ProductID</th>\n",
       "      <th>Price</th>\n",
       "      <th>Qty</th>\n",
       "      <th>TotalAmount</th>\n",
       "      <th>StoreID</th>\n",
       "    </tr>\n",
       "  </thead>\n",
       "  <tbody>\n",
       "    <tr>\n",
       "      <th>0</th>\n",
       "      <td>TR11369</td>\n",
       "      <td>328</td>\n",
       "      <td>01/01/2022</td>\n",
       "      <td>P3</td>\n",
       "      <td>7500</td>\n",
       "      <td>4</td>\n",
       "      <td>30000</td>\n",
       "      <td>12</td>\n",
       "    </tr>\n",
       "    <tr>\n",
       "      <th>1</th>\n",
       "      <td>TR16356</td>\n",
       "      <td>165</td>\n",
       "      <td>01/01/2022</td>\n",
       "      <td>P9</td>\n",
       "      <td>10000</td>\n",
       "      <td>7</td>\n",
       "      <td>70000</td>\n",
       "      <td>1</td>\n",
       "    </tr>\n",
       "    <tr>\n",
       "      <th>2</th>\n",
       "      <td>TR1984</td>\n",
       "      <td>183</td>\n",
       "      <td>01/01/2022</td>\n",
       "      <td>P1</td>\n",
       "      <td>8800</td>\n",
       "      <td>4</td>\n",
       "      <td>35200</td>\n",
       "      <td>4</td>\n",
       "    </tr>\n",
       "    <tr>\n",
       "      <th>3</th>\n",
       "      <td>TR35256</td>\n",
       "      <td>160</td>\n",
       "      <td>01/01/2022</td>\n",
       "      <td>P1</td>\n",
       "      <td>8800</td>\n",
       "      <td>7</td>\n",
       "      <td>61600</td>\n",
       "      <td>4</td>\n",
       "    </tr>\n",
       "    <tr>\n",
       "      <th>4</th>\n",
       "      <td>TR41231</td>\n",
       "      <td>386</td>\n",
       "      <td>01/01/2022</td>\n",
       "      <td>P9</td>\n",
       "      <td>10000</td>\n",
       "      <td>1</td>\n",
       "      <td>10000</td>\n",
       "      <td>4</td>\n",
       "    </tr>\n",
       "  </tbody>\n",
       "</table>\n",
       "</div>"
      ],
      "text/plain": [
       "  TransactionID  CustomerID        Date ProductID  Price  Qty  TotalAmount  \\\n",
       "0       TR11369         328  01/01/2022        P3   7500    4        30000   \n",
       "1       TR16356         165  01/01/2022        P9  10000    7        70000   \n",
       "2        TR1984         183  01/01/2022        P1   8800    4        35200   \n",
       "3       TR35256         160  01/01/2022        P1   8800    7        61600   \n",
       "4       TR41231         386  01/01/2022        P9  10000    1        10000   \n",
       "\n",
       "   StoreID  \n",
       "0       12  \n",
       "1        1  \n",
       "2        4  \n",
       "3        4  \n",
       "4        4  "
      ]
     },
     "execution_count": 2,
     "metadata": {},
     "output_type": "execute_result"
    }
   ],
   "source": [
    "#Import data\n",
    "df = pd.read_csv(\"Case Study - Transaction.csv\",sep=\";\")\n",
    "df.head()"
   ]
  },
  {
   "cell_type": "code",
   "execution_count": 3,
   "metadata": {},
   "outputs": [
    {
     "name": "stdout",
     "output_type": "stream",
     "text": [
      "<class 'pandas.core.frame.DataFrame'>\n",
      "RangeIndex: 5020 entries, 0 to 5019\n",
      "Data columns (total 8 columns):\n",
      " #   Column         Non-Null Count  Dtype \n",
      "---  ------         --------------  ----- \n",
      " 0   TransactionID  5020 non-null   object\n",
      " 1   CustomerID     5020 non-null   int64 \n",
      " 2   Date           5020 non-null   object\n",
      " 3   ProductID      5020 non-null   object\n",
      " 4   Price          5020 non-null   int64 \n",
      " 5   Qty            5020 non-null   int64 \n",
      " 6   TotalAmount    5020 non-null   int64 \n",
      " 7   StoreID        5020 non-null   int64 \n",
      "dtypes: int64(5), object(3)\n",
      "memory usage: 313.9+ KB\n"
     ]
    }
   ],
   "source": [
    "df.info()"
   ]
  },
  {
   "cell_type": "code",
   "execution_count": 4,
   "metadata": {},
   "outputs": [
    {
     "data": {
      "text/html": [
       "<div>\n",
       "<style scoped>\n",
       "    .dataframe tbody tr th:only-of-type {\n",
       "        vertical-align: middle;\n",
       "    }\n",
       "\n",
       "    .dataframe tbody tr th {\n",
       "        vertical-align: top;\n",
       "    }\n",
       "\n",
       "    .dataframe thead th {\n",
       "        text-align: right;\n",
       "    }\n",
       "</style>\n",
       "<table border=\"1\" class=\"dataframe\">\n",
       "  <thead>\n",
       "    <tr style=\"text-align: right;\">\n",
       "      <th></th>\n",
       "      <th>Date</th>\n",
       "      <th>Qty</th>\n",
       "    </tr>\n",
       "  </thead>\n",
       "  <tbody>\n",
       "    <tr>\n",
       "      <th>0</th>\n",
       "      <td>01/01/2022</td>\n",
       "      <td>49</td>\n",
       "    </tr>\n",
       "    <tr>\n",
       "      <th>1</th>\n",
       "      <td>01/02/2022</td>\n",
       "      <td>50</td>\n",
       "    </tr>\n",
       "    <tr>\n",
       "      <th>2</th>\n",
       "      <td>01/03/2022</td>\n",
       "      <td>76</td>\n",
       "    </tr>\n",
       "    <tr>\n",
       "      <th>3</th>\n",
       "      <td>01/04/2022</td>\n",
       "      <td>98</td>\n",
       "    </tr>\n",
       "    <tr>\n",
       "      <th>4</th>\n",
       "      <td>01/05/2022</td>\n",
       "      <td>67</td>\n",
       "    </tr>\n",
       "  </tbody>\n",
       "</table>\n",
       "</div>"
      ],
      "text/plain": [
       "         Date  Qty\n",
       "0  01/01/2022   49\n",
       "1  01/02/2022   50\n",
       "2  01/03/2022   76\n",
       "3  01/04/2022   98\n",
       "4  01/05/2022   67"
      ]
     },
     "execution_count": 4,
     "metadata": {},
     "output_type": "execute_result"
    }
   ],
   "source": [
    "#Group by Date dan aggregate sum Qty\n",
    "df_date_sum = df.groupby('Date').agg({\"Qty\":\"sum\"}).reset_index()\n",
    "df_date_sum.head()"
   ]
  },
  {
   "cell_type": "code",
   "execution_count": 5,
   "metadata": {},
   "outputs": [
    {
     "name": "stdout",
     "output_type": "stream",
     "text": [
      "<class 'pandas.core.frame.DataFrame'>\n",
      "RangeIndex: 365 entries, 0 to 364\n",
      "Data columns (total 2 columns):\n",
      " #   Column  Non-Null Count  Dtype \n",
      "---  ------  --------------  ----- \n",
      " 0   Date    365 non-null    object\n",
      " 1   Qty     365 non-null    int64 \n",
      "dtypes: int64(1), object(1)\n",
      "memory usage: 5.8+ KB\n"
     ]
    }
   ],
   "source": [
    "df_date_sum.info()"
   ]
  },
  {
   "cell_type": "code",
   "execution_count": 6,
   "metadata": {},
   "outputs": [],
   "source": [
    "# df_date_sum.to_excel(\"date_sum.xlsx\")"
   ]
  },
  {
   "cell_type": "code",
   "execution_count": 7,
   "metadata": {},
   "outputs": [
    {
     "data": {
      "image/png": "[encoded data removed]",
      "text/plain": [
       "<Figure size 720x360 with 1 Axes>"
      ]
     },
     "metadata": {
      "needs_background": "light"
     },
     "output_type": "display_data"
    }
   ],
   "source": [
    "#Visualisasi data\n",
    "plt.figure(figsize=(10,5))\n",
    "plot = sns.lineplot(data=df_date_sum, x =\"Date\", y = \"Qty\")\n",
    "plt.xticks(rotation=45, horizontalalignment=\"right\")\n",
    "locator = mdates.DayLocator(interval=30)\n",
    "plot.xaxis.set_major_locator(locator)\n",
    "plt.show()"
   ]
  },
  {
   "cell_type": "code",
   "execution_count": 8,
   "metadata": {},
   "outputs": [
    {
     "data": {
      "image/png": "[encoded data removed]",
      "text/plain": [
       "<Figure size 432x288 with 1 Axes>"
      ]
     },
     "metadata": {
      "needs_background": "light"
     },
     "output_type": "display_data"
    }
   ],
   "source": [
    "from statsmodels.graphics.tsaplots import plot_acf\n",
    "plot_acf(df_date_sum[\"Qty\"], lags=50)\n",
    "plt.show()"
   ]
  },
  {
   "cell_type": "code",
   "execution_count": 9,
   "metadata": {},
   "outputs": [
    {
     "data": {
      "text/html": [
       "<div>\n",
       "<style scoped>\n",
       "    .dataframe tbody tr th:only-of-type {\n",
       "        vertical-align: middle;\n",
       "    }\n",
       "\n",
       "    .dataframe tbody tr th {\n",
       "        vertical-align: top;\n",
       "    }\n",
       "\n",
       "    .dataframe thead th {\n",
       "        text-align: right;\n",
       "    }\n",
       "</style>\n",
       "<table border=\"1\" class=\"dataframe\">\n",
       "  <thead>\n",
       "    <tr style=\"text-align: right;\">\n",
       "      <th></th>\n",
       "      <th>unique_id</th>\n",
       "      <th>ds</th>\n",
       "      <th>y</th>\n",
       "    </tr>\n",
       "  </thead>\n",
       "  <tbody>\n",
       "    <tr>\n",
       "      <th>0</th>\n",
       "      <td>qty</td>\n",
       "      <td>01/01/2022</td>\n",
       "      <td>49</td>\n",
       "    </tr>\n",
       "    <tr>\n",
       "      <th>1</th>\n",
       "      <td>qty</td>\n",
       "      <td>01/02/2022</td>\n",
       "      <td>50</td>\n",
       "    </tr>\n",
       "    <tr>\n",
       "      <th>2</th>\n",
       "      <td>qty</td>\n",
       "      <td>01/03/2022</td>\n",
       "      <td>76</td>\n",
       "    </tr>\n",
       "    <tr>\n",
       "      <th>3</th>\n",
       "      <td>qty</td>\n",
       "      <td>01/04/2022</td>\n",
       "      <td>98</td>\n",
       "    </tr>\n",
       "    <tr>\n",
       "      <th>4</th>\n",
       "      <td>qty</td>\n",
       "      <td>01/05/2022</td>\n",
       "      <td>67</td>\n",
       "    </tr>\n",
       "  </tbody>\n",
       "</table>\n",
       "</div>"
      ],
      "text/plain": [
       "  unique_id          ds   y\n",
       "0       qty  01/01/2022  49\n",
       "1       qty  01/02/2022  50\n",
       "2       qty  01/03/2022  76\n",
       "3       qty  01/04/2022  98\n",
       "4       qty  01/05/2022  67"
      ]
     },
     "execution_count": 9,
     "metadata": {},
     "output_type": "execute_result"
    }
   ],
   "source": [
    "#Auto ARIMA statsforecast\n",
    "\n",
    "df_sf = pd.read_excel(\"date_sum.xlsx\")\n",
    "df_sf.head()"
   ]
  },
  {
   "cell_type": "code",
   "execution_count": 10,
   "metadata": {},
   "outputs": [
    {
     "name": "stderr",
     "output_type": "stream",
     "text": [
      "c:\\Users\\ACER\\AppData\\Local\\Programs\\Python\\Python310\\lib\\site-packages\\statsforecast\\core.py:691: UserWarning: Parsing dates in DD/MM/YYYY format when dayfirst=False (the default) was specified. This may lead to inconsistently parsed dates! Specify a format to ensure consistent parsing.\n",
      "  return pd.to_datetime(arr)\n",
      "c:\\Users\\ACER\\AppData\\Local\\Programs\\Python\\Python310\\lib\\site-packages\\statsforecast\\core.py:756: UserWarning:\n",
      "\n",
      "Parsing dates in DD/MM/YYYY format when dayfirst=False (the default) was specified. This may lead to inconsistently parsed dates! Specify a format to ensure consistent parsing.\n",
      "\n"
     ]
    },
    {
     "data": {
      "application/vnd.plotly.v1+json": {
       "config": {
        "plotlyServerURL": "https://plot.ly"
       },
       "data": [
        {
         "legendgroup": "y",
         "line": {
          "color": "#1f77b4",
          "width": 1
         },
         "mode": "lines",
         "name": "y",
         "showlegend": true,
         "type": "scatter",
         "x": [
          "2022-01-01T00:00:00",
          "2022-01-02T00:00:00",
          "2022-01-03T00:00:00",
          "2022-01-04T00:00:00",
          "2022-01-05T00:00:00",
          "2022-01-06T00:00:00",
          "2022-01-07T00:00:00",
          "2022-01-08T00:00:00",
          "2022-01-09T00:00:00",
          "2022-01-10T00:00:00",
          "2022-01-11T00:00:00",
          "2022-01-12T00:00:00",
          "2022-02-01T00:00:00",
          "2022-02-02T00:00:00",
          "2022-02-03T00:00:00",
          "2022-02-04T00:00:00",
          "2022-02-05T00:00:00",
          "2022-02-06T00:00:00",
          "2022-02-07T00:00:00",
          "2022-02-08T00:00:00",
          "2022-02-09T00:00:00",
          "2022-02-10T00:00:00",
          "2022-02-11T00:00:00",
          "2022-02-12T00:00:00",
          "2022-03-01T00:00:00",
          "2022-03-02T00:00:00",
          "2022-03-03T00:00:00",
          "2022-03-04T00:00:00",
          "2022-03-05T00:00:00",
          "2022-03-06T00:00:00",
          "2022-03-07T00:00:00",
          "2022-03-08T00:00:00",
          "2022-03-09T00:00:00",
          "2022-03-10T00:00:00",
          "2022-03-11T00:00:00",
          "2022-03-12T00:00:00",
          "2022-04-01T00:00:00",
          "2022-04-02T00:00:00",
          "2022-04-03T00:00:00",
          "2022-04-04T00:00:00",
          "2022-04-05T00:00:00",
          "2022-04-06T00:00:00",
          "2022-04-07T00:00:00",
          "2022-04-08T00:00:00",
          "2022-04-09T00:00:00",
          "2022-04-10T00:00:00",
          "2022-04-11T00:00:00",
          "2022-04-12T00:00:00",
          "2022-05-01T00:00:00",
          "2022-05-02T00:00:00",
          "2022-05-03T00:00:00",
          "2022-05-04T00:00:00",
          "2022-05-05T00:00:00",
          "2022-05-06T00:00:00",
          "2022-05-07T00:00:00",
          "2022-05-08T00:00:00",
          "2022-05-09T00:00:00",
          "2022-05-10T00:00:00",
          "2022-05-11T00:00:00",
          "2022-05-12T00:00:00",
          "2022-06-01T00:00:00",
          "2022-06-02T00:00:00",
          "2022-06-03T00:00:00",
          "2022-06-04T00:00:00",
          "2022-06-05T00:00:00",
          "2022-06-06T00:00:00",
          "2022-06-07T00:00:00",
          "2022-06-08T00:00:00",
          "2022-06-09T00:00:00",
          "2022-06-10T00:00:00",
          "2022-06-11T00:00:00",
          "2022-06-12T00:00:00",
          "2022-07-01T00:00:00",
          "2022-07-02T00:00:00",
          "2022-07-03T00:00:00",
          "2022-07-04T00:00:00",
          "2022-07-05T00:00:00",
          "2022-07-06T00:00:00",
          "2022-07-07T00:00:00",
          "2022-07-08T00:00:00",
          "2022-07-09T00:00:00",
          "2022-07-10T00:00:00",
          "2022-07-11T00:00:00",
          "2022-07-12T00:00:00",
          "2022-08-01T00:00:00",
          "2022-08-02T00:00:00",
          "2022-08-03T00:00:00",
          "2022-08-04T00:00:00",
          "2022-08-05T00:00:00",
          "2022-08-06T00:00:00",
          "2022-08-07T00:00:00",
          "2022-08-08T00:00:00",
          "2022-08-09T00:00:00",
          "2022-08-10T00:00:00",
          "2022-08-11T00:00:00",
          "2022-08-12T00:00:00",
          "2022-09-01T00:00:00",
          "2022-09-02T00:00:00",
          "2022-09-03T00:00:00",
          "2022-09-04T00:00:00",
          "2022-09-05T00:00:00",
          "2022-09-06T00:00:00",
          "2022-09-07T00:00:00",
          "2022-09-08T00:00:00",
          "2022-09-09T00:00:00",
          "2022-09-10T00:00:00",
          "2022-09-11T00:00:00",
          "2022-09-12T00:00:00",
          "2022-10-01T00:00:00",
          "2022-10-02T00:00:00",
          "2022-10-03T00:00:00",
          "2022-10-04T00:00:00",
          "2022-10-05T00:00:00",
          "2022-10-06T00:00:00",
          "2022-10-07T00:00:00",
          "2022-10-08T00:00:00",
          "2022-10-09T00:00:00",
          "2022-10-10T00:00:00",
          "2022-10-11T00:00:00",
          "2022-10-12T00:00:00",
          "2022-11-01T00:00:00",
          "2022-11-02T00:00:00",
          "2022-11-03T00:00:00",
          "2022-11-04T00:00:00",
          "2022-11-05T00:00:00",
          "2022-11-06T00:00:00",
          "2022-11-07T00:00:00",
          "2022-11-08T00:00:00",
          "2022-11-09T00:00:00",
          "2022-11-10T00:00:00",
          "2022-11-11T00:00:00",
          "2022-11-12T00:00:00",
          "2022-12-01T00:00:00",
          "2022-12-02T00:00:00",
          "2022-12-03T00:00:00",
          "2022-12-04T00:00:00",
          "2022-12-05T00:00:00",
          "2022-12-06T00:00:00",
          "2022-12-07T00:00:00",
          "2022-12-08T00:00:00",
          "2022-12-09T00:00:00",
          "2022-12-10T00:00:00",
          "2022-12-11T00:00:00",
          "2022-12-12T00:00:00",
          "2022-01-13T00:00:00",
          "2022-02-13T00:00:00",
          "2022-03-13T00:00:00",
          "2022-04-13T00:00:00",
          "2022-05-13T00:00:00",
          "2022-06-13T00:00:00",
          "2022-07-13T00:00:00",
          "2022-08-13T00:00:00",
          "2022-09-13T00:00:00",
          "2022-10-13T00:00:00",
          "2022-11-13T00:00:00",
          "2022-12-13T00:00:00",
          "2022-01-14T00:00:00",
          "2022-02-14T00:00:00",
          "2022-03-14T00:00:00",
          "2022-04-14T00:00:00",
          "2022-05-14T00:00:00",
          "2022-06-14T00:00:00",
          "2022-07-14T00:00:00",
          "2022-08-14T00:00:00",
          "2022-09-14T00:00:00",
          "2022-10-14T00:00:00",
          "2022-11-14T00:00:00",
          "2022-12-14T00:00:00",
          "2022-01-15T00:00:00",
          "2022-02-15T00:00:00",
          "2022-03-15T00:00:00",
          "2022-04-15T00:00:00",
          "2022-05-15T00:00:00",
          "2022-06-15T00:00:00",
          "2022-07-15T00:00:00",
          "2022-08-15T00:00:00",
          "2022-09-15T00:00:00",
          "2022-10-15T00:00:00",
          "2022-11-15T00:00:00",
          "2022-12-15T00:00:00",
          "2022-01-16T00:00:00",
          "2022-02-16T00:00:00",
          "2022-03-16T00:00:00",
          "2022-04-16T00:00:00",
          "2022-05-16T00:00:00",
          "2022-06-16T00:00:00",
          "2022-07-16T00:00:00",
          "2022-08-16T00:00:00",
          "2022-09-16T00:00:00",
          "2022-10-16T00:00:00",
          "2022-11-16T00:00:00",
          "2022-12-16T00:00:00",
          "2022-01-17T00:00:00",
          "2022-02-17T00:00:00",
          "2022-03-17T00:00:00",
          "2022-04-17T00:00:00",
          "2022-05-17T00:00:00",
          "2022-06-17T00:00:00",
          "2022-07-17T00:00:00",
          "2022-08-17T00:00:00",
          "2022-09-17T00:00:00",
          "2022-10-17T00:00:00",
          "2022-11-17T00:00:00",
          "2022-12-17T00:00:00",
          "2022-01-18T00:00:00",
          "2022-02-18T00:00:00",
          "2022-03-18T00:00:00",
          "2022-04-18T00:00:00",
          "2022-05-18T00:00:00",
          "2022-06-18T00:00:00",
          "2022-07-18T00:00:00",
          "2022-08-18T00:00:00",
          "2022-09-18T00:00:00",
          "2022-10-18T00:00:00",
          "2022-11-18T00:00:00",
          "2022-12-18T00:00:00",
          "2022-01-19T00:00:00",
          "2022-02-19T00:00:00",
          "2022-03-19T00:00:00",
          "2022-04-19T00:00:00",
          "2022-05-19T00:00:00",
          "2022-06-19T00:00:00",
          "2022-07-19T00:00:00",
          "2022-08-19T00:00:00",
          "2022-09-19T00:00:00",
          "2022-10-19T00:00:00",
          "2022-11-19T00:00:00",
          "2022-12-19T00:00:00",
          "2022-01-20T00:00:00",
          "2022-02-20T00:00:00",
          "2022-03-20T00:00:00",
          "2022-04-20T00:00:00",
          "2022-05-20T00:00:00",
          "2022-06-20T00:00:00",
          "2022-07-20T00:00:00",
          "2022-08-20T00:00:00",
          "2022-09-20T00:00:00",
          "2022-10-20T00:00:00",
          "2022-11-20T00:00:00",
          "2022-12-20T00:00:00",
          "2022-01-21T00:00:00",
          "2022-02-21T00:00:00",
          "2022-03-21T00:00:00",
          "2022-04-21T00:00:00",
          "2022-05-21T00:00:00",
          "2022-06-21T00:00:00",
          "2022-07-21T00:00:00",
          "2022-08-21T00:00:00",
          "2022-09-21T00:00:00",
          "2022-10-21T00:00:00",
          "2022-11-21T00:00:00",
          "2022-12-21T00:00:00",
          "2022-01-22T00:00:00",
          "2022-02-22T00:00:00",
          "2022-03-22T00:00:00",
          "2022-04-22T00:00:00",
          "2022-05-22T00:00:00",
          "2022-06-22T00:00:00",
          "2022-07-22T00:00:00",
          "2022-08-22T00:00:00",
          "2022-09-22T00:00:00",
          "2022-10-22T00:00:00",
          "2022-11-22T00:00:00",
          "2022-12-22T00:00:00",
          "2022-01-23T00:00:00",
          "2022-02-23T00:00:00",
          "2022-03-23T00:00:00",
          "2022-04-23T00:00:00",
          "2022-05-23T00:00:00",
          "2022-06-23T00:00:00",
          "2022-07-23T00:00:00",
          "2022-08-23T00:00:00",
          "2022-09-23T00:00:00",
          "2022-10-23T00:00:00",
          "2022-11-23T00:00:00",
          "2022-12-23T00:00:00",
          "2022-01-24T00:00:00",
          "2022-02-24T00:00:00",
          "2022-03-24T00:00:00",
          "2022-04-24T00:00:00",
          "2022-05-24T00:00:00",
          "2022-06-24T00:00:00",
          "2022-07-24T00:00:00",
          "2022-08-24T00:00:00",
          "2022-09-24T00:00:00",
          "2022-10-24T00:00:00",
          "2022-11-24T00:00:00",
          "2022-12-24T00:00:00",
          "2022-01-25T00:00:00",
          "2022-02-25T00:00:00",
          "2022-03-25T00:00:00",
          "2022-04-25T00:00:00",
          "2022-05-25T00:00:00",
          "2022-06-25T00:00:00",
          "2022-07-25T00:00:00",
          "2022-08-25T00:00:00",
          "2022-09-25T00:00:00",
          "2022-10-25T00:00:00",
          "2022-11-25T00:00:00",
          "2022-12-25T00:00:00",
          "2022-01-26T00:00:00",
          "2022-02-26T00:00:00",
          "2022-03-26T00:00:00",
          "2022-04-26T00:00:00",
          "2022-05-26T00:00:00",
          "2022-06-26T00:00:00",
          "2022-07-26T00:00:00",
          "2022-08-26T00:00:00",
          "2022-09-26T00:00:00",
          "2022-10-26T00:00:00",
          "2022-11-26T00:00:00",
          "2022-12-26T00:00:00",
          "2022-01-27T00:00:00",
          "2022-02-27T00:00:00",
          "2022-03-27T00:00:00",
          "2022-04-27T00:00:00",
          "2022-05-27T00:00:00",
          "2022-06-27T00:00:00",
          "2022-07-27T00:00:00",
          "2022-08-27T00:00:00",
          "2022-09-27T00:00:00",
          "2022-10-27T00:00:00",
          "2022-11-27T00:00:00",
          "2022-12-27T00:00:00",
          "2022-01-28T00:00:00",
          "2022-02-28T00:00:00",
          "2022-03-28T00:00:00",
          "2022-04-28T00:00:00",
          "2022-05-28T00:00:00",
          "2022-06-28T00:00:00",
          "2022-07-28T00:00:00",
          "2022-08-28T00:00:00",
          "2022-09-28T00:00:00",
          "2022-10-28T00:00:00",
          "2022-11-28T00:00:00",
          "2022-12-28T00:00:00",
          "2022-01-29T00:00:00",
          "2022-03-29T00:00:00",
          "2022-04-29T00:00:00",
          "2022-05-29T00:00:00",
          "2022-06-29T00:00:00",
          "2022-07-29T00:00:00",
          "2022-08-29T00:00:00",
          "2022-09-29T00:00:00",
          "2022-10-29T00:00:00",
          "2022-11-29T00:00:00",
          "2022-12-29T00:00:00",
          "2022-01-30T00:00:00",
          "2022-03-30T00:00:00",
          "2022-04-30T00:00:00",
          "2022-05-30T00:00:00",
          "2022-06-30T00:00:00",
          "2022-07-30T00:00:00",
          "2022-08-30T00:00:00",
          "2022-09-30T00:00:00",
          "2022-10-30T00:00:00",
          "2022-11-30T00:00:00",
          "2022-12-30T00:00:00",
          "2022-01-31T00:00:00",
          "2022-03-31T00:00:00",
          "2022-05-31T00:00:00",
          "2022-07-31T00:00:00",
          "2022-08-31T00:00:00",
          "2022-10-31T00:00:00",
          "2022-12-31T00:00:00"
         ],
         "xaxis": "x",
         "y": [
          49,
          50,
          76,
          98,
          67,
          67,
          99,
          56,
          27,
          85,
          66,
          81,
          59,
          54,
          119,
          53,
          57,
          57,
          50,
          61,
          67,
          59,
          40,
          30,
          63,
          58,
          100,
          23,
          31,
          49,
          56,
          22,
          48,
          43,
          34,
          48,
          45,
          62,
          64,
          76,
          29,
          34,
          40,
          30,
          55,
          59,
          28,
          63,
          30,
          47,
          29,
          63,
          41,
          83,
          47,
          47,
          46,
          67,
          48,
          33,
          71,
          51,
          56,
          45,
          50,
          46,
          48,
          38,
          18,
          30,
          49,
          41,
          37,
          32,
          79,
          48,
          72,
          63,
          67,
          49,
          41,
          56,
          39,
          35,
          47,
          62,
          16,
          53,
          52,
          41,
          46,
          50,
          21,
          34,
          55,
          33,
          47,
          61,
          55,
          43,
          75,
          55,
          44,
          73,
          50,
          36,
          73,
          45,
          60,
          47,
          70,
          53,
          42,
          64,
          34,
          32,
          55,
          49,
          24,
          49,
          75,
          65,
          72,
          39,
          65,
          72,
          29,
          46,
          58,
          27,
          64,
          42,
          35,
          34,
          41,
          98,
          46,
          51,
          56,
          17,
          39,
          62,
          30,
          52,
          28,
          38,
          45,
          65,
          37,
          30,
          56,
          66,
          53,
          30,
          78,
          50,
          31,
          49,
          43,
          40,
          74,
          49,
          29,
          64,
          50,
          56,
          42,
          26,
          102,
          52,
          50,
          28,
          71,
          43,
          44,
          64,
          56,
          33,
          34,
          46,
          33,
          55,
          41,
          60,
          36,
          47,
          49,
          29,
          71,
          26,
          33,
          29,
          77,
          47,
          81,
          46,
          69,
          65,
          41,
          49,
          32,
          53,
          38,
          35,
          37,
          45,
          54,
          26,
          58,
          58,
          70,
          59,
          42,
          47,
          75,
          54,
          49,
          41,
          42,
          55,
          76,
          50,
          53,
          62,
          34,
          34,
          33,
          29,
          40,
          22,
          33,
          49,
          52,
          37,
          24,
          28,
          38,
          39,
          55,
          41,
          60,
          53,
          27,
          48,
          56,
          40,
          33,
          80,
          47,
          35,
          55,
          64,
          32,
          49,
          32,
          52,
          40,
          66,
          43,
          44,
          59,
          56,
          49,
          30,
          37,
          75,
          59,
          37,
          15,
          52,
          58,
          42,
          59,
          59,
          40,
          26,
          55,
          33,
          63,
          51,
          45,
          62,
          51,
          52,
          90,
          39,
          42,
          74,
          60,
          36,
          54,
          58,
          56,
          73,
          73,
          78,
          38,
          29,
          55,
          53,
          49,
          91,
          64,
          48,
          79,
          64,
          26,
          18,
          90,
          40,
          40,
          39,
          66,
          76,
          43,
          41,
          18,
          65,
          76,
          38,
          55,
          39,
          53,
          70,
          43,
          56,
          45,
          82,
          67,
          42,
          57,
          46,
          55,
          58,
          50,
          68,
          35,
          68,
          55,
          35,
          40,
          37,
          34,
          51,
          52,
          55,
          42,
          49,
          76,
          21,
          57,
          27,
          24,
          82,
          54,
          52,
          45,
          44,
          59,
          56,
          21,
          72,
          36,
          69,
          37
         ],
         "yaxis": "y"
        }
       ],
       "layout": {
        "annotations": [
         {
          "font": {
           "size": 10
          },
          "showarrow": false,
          "text": "qty",
          "x": 0.5,
          "xanchor": "center",
          "xref": "paper",
          "y": 1,
          "yanchor": "bottom",
          "yref": "paper"
         },
         {
          "font": {
           "size": 10
          },
          "showarrow": false,
          "text": "Datestamp [ds]",
          "x": 0.5,
          "xanchor": "center",
          "xref": "paper",
          "y": 0,
          "yanchor": "top",
          "yref": "paper",
          "yshift": -30
         },
         {
          "font": {
           "size": 10
          },
          "showarrow": false,
          "text": "Target [y]",
          "textangle": -90,
          "x": 0,
          "xanchor": "right",
          "xref": "paper",
          "xshift": -40,
          "y": 0.5,
          "yanchor": "middle",
          "yref": "paper"
         }
        ],
        "autosize": true,
        "font": {
         "size": 10
        },
        "height": 150,
        "margin": {
         "b": 50,
         "l": 60,
         "r": 10,
         "t": 20
        },
        "template": {
         "data": {
          "bar": [
           {
            "error_x": {
             "color": "#2a3f5f"
            },
            "error_y": {
             "color": "#2a3f5f"
            },
            "marker": {
             "line": {
              "color": "white",
              "width": 0.5
             },
             "pattern": {
              "fillmode": "overlay",
              "size": 10,
              "solidity": 0.2
             }
            },
            "type": "bar"
           }
          ],
          "barpolar": [
           {
            "marker": {
             "line": {
              "color": "white",
              "width": 0.5
             },
             "pattern": {
              "fillmode": "overlay",
              "size": 10,
              "solidity": 0.2
             }
            },
            "type": "barpolar"
           }
          ],
          "carpet": [
           {
            "aaxis": {
             "endlinecolor": "#2a3f5f",
             "gridcolor": "#C8D4E3",
             "linecolor": "#C8D4E3",
             "minorgridcolor": "#C8D4E3",
             "startlinecolor": "#2a3f5f"
            },
            "baxis": {
             "endlinecolor": "#2a3f5f",
             "gridcolor": "#C8D4E3",
             "linecolor": "#C8D4E3",
             "minorgridcolor": "#C8D4E3",
             "startlinecolor": "#2a3f5f"
            },
            "type": "carpet"
           }
          ],
          "choropleth": [
           {
            "colorbar": {
             "outlinewidth": 0,
             "ticks": ""
            },
            "type": "choropleth"
           }
          ],
          "contour": [
           {
            "colorbar": {
             "outlinewidth": 0,
             "ticks": ""
            },
            "colorscale": [
             [
              0,
              "#0d0887"
             ],
             [
              0.1111111111111111,
              "#46039f"
             ],
             [
              0.2222222222222222,
              "#7201a8"
             ],
             [
              0.3333333333333333,
              "#9c179e"
             ],
             [
              0.4444444444444444,
              "#bd3786"
             ],
             [
              0.5555555555555556,
              "#d8576b"
             ],
             [
              0.6666666666666666,
              "#ed7953"
             ],
             [
              0.7777777777777778,
              "#fb9f3a"
             ],
             [
              0.8888888888888888,
              "#fdca26"
             ],
             [
              1,
              "#f0f921"
             ]
            ],
            "type": "contour"
           }
          ],
          "contourcarpet": [
           {
            "colorbar": {
             "outlinewidth": 0,
             "ticks": ""
            },
            "type": "contourcarpet"
           }
          ],
          "heatmap": [
           {
            "colorbar": {
             "outlinewidth": 0,
             "ticks": ""
            },
            "colorscale": [
             [
              0,
              "#0d0887"
             ],
             [
              0.1111111111111111,
              "#46039f"
             ],
             [
              0.2222222222222222,
              "#7201a8"
             ],
             [
              0.3333333333333333,
              "#9c179e"
             ],
             [
              0.4444444444444444,
              "#bd3786"
             ],
             [
              0.5555555555555556,
              "#d8576b"
             ],
             [
              0.6666666666666666,
              "#ed7953"
             ],
             [
              0.7777777777777778,
              "#fb9f3a"
             ],
             [
              0.8888888888888888,
              "#fdca26"
             ],
             [
              1,
              "#f0f921"
             ]
            ],
            "type": "heatmap"
           }
          ],
          "heatmapgl": [
           {
            "colorbar": {
             "outlinewidth": 0,
             "ticks": ""
            },
            "colorscale": [
             [
              0,
              "#0d0887"
             ],
             [
              0.1111111111111111,
              "#46039f"
             ],
             [
              0.2222222222222222,
              "#7201a8"
             ],
             [
              0.3333333333333333,
              "#9c179e"
             ],
             [
              0.4444444444444444,
              "#bd3786"
             ],
             [
              0.5555555555555556,
              "#d8576b"
             ],
             [
              0.6666666666666666,
              "#ed7953"
             ],
             [
              0.7777777777777778,
              "#fb9f3a"
             ],
             [
              0.8888888888888888,
              "#fdca26"
             ],
             [
              1,
              "#f0f921"
             ]
            ],
            "type": "heatmapgl"
           }
          ],
          "histogram": [
           {
            "marker": {
             "pattern": {
              "fillmode": "overlay",
              "size": 10,
              "solidity": 0.2
             }
            },
            "type": "histogram"
           }
          ],
          "histogram2d": [
           {
            "colorbar": {
             "outlinewidth": 0,
             "ticks": ""
            },
            "colorscale": [
             [
              0,
              "#0d0887"
             ],
             [
              0.1111111111111111,
              "#46039f"
             ],
             [
              0.2222222222222222,
              "#7201a8"
             ],
             [
              0.3333333333333333,
              "#9c179e"
             ],
             [
              0.4444444444444444,
              "#bd3786"
             ],
             [
              0.5555555555555556,
              "#d8576b"
             ],
             [
              0.6666666666666666,
              "#ed7953"
             ],
             [
              0.7777777777777778,
              "#fb9f3a"
             ],
             [
              0.8888888888888888,
              "#fdca26"
             ],
             [
              1,
              "#f0f921"
             ]
            ],
            "type": "histogram2d"
           }
          ],
          "histogram2dcontour": [
           {
            "colorbar": {
             "outlinewidth": 0,
             "ticks": ""
            },
            "colorscale": [
             [
              0,
              "#0d0887"
             ],
             [
              0.1111111111111111,
              "#46039f"
             ],
             [
              0.2222222222222222,
              "#7201a8"
             ],
             [
              0.3333333333333333,
              "#9c179e"
             ],
             [
              0.4444444444444444,
              "#bd3786"
             ],
             [
              0.5555555555555556,
              "#d8576b"
             ],
             [
              0.6666666666666666,
              "#ed7953"
             ],
             [
              0.7777777777777778,
              "#fb9f3a"
             ],
             [
              0.8888888888888888,
              "#fdca26"
             ],
             [
              1,
              "#f0f921"
             ]
            ],
            "type": "histogram2dcontour"
           }
          ],
          "mesh3d": [
           {
            "colorbar": {
             "outlinewidth": 0,
             "ticks": ""
            },
            "type": "mesh3d"
           }
          ],
          "parcoords": [
           {
            "line": {
             "colorbar": {
              "outlinewidth": 0,
              "ticks": ""
             }
            },
            "type": "parcoords"
           }
          ],
          "pie": [
           {
            "automargin": true,
            "type": "pie"
           }
          ],
          "scatter": [
           {
            "fillpattern": {
             "fillmode": "overlay",
             "size": 10,
             "solidity": 0.2
            },
            "type": "scatter"
           }
          ],
          "scatter3d": [
           {
            "line": {
             "colorbar": {
              "outlinewidth": 0,
              "ticks": ""
             }
            },
            "marker": {
             "colorbar": {
              "outlinewidth": 0,
              "ticks": ""
             }
            },
            "type": "scatter3d"
           }
          ],
          "scattercarpet": [
           {
            "marker": {
             "colorbar": {
              "outlinewidth": 0,
              "ticks": ""
             }
            },
            "type": "scattercarpet"
           }
          ],
          "scattergeo": [
           {
            "marker": {
             "colorbar": {
              "outlinewidth": 0,
              "ticks": ""
             }
            },
            "type": "scattergeo"
           }
          ],
          "scattergl": [
           {
            "marker": {
             "colorbar": {
              "outlinewidth": 0,
              "ticks": ""
             }
            },
            "type": "scattergl"
           }
          ],
          "scattermapbox": [
           {
            "marker": {
             "colorbar": {
              "outlinewidth": 0,
              "ticks": ""
             }
            },
            "type": "scattermapbox"
           }
          ],
          "scatterpolar": [
           {
            "marker": {
             "colorbar": {
              "outlinewidth": 0,
              "ticks": ""
             }
            },
            "type": "scatterpolar"
           }
          ],
          "scatterpolargl": [
           {
            "marker": {
             "colorbar": {
              "outlinewidth": 0,
              "ticks": ""
             }
            },
            "type": "scatterpolargl"
           }
          ],
          "scatterternary": [
           {
            "marker": {
             "colorbar": {
              "outlinewidth": 0,
              "ticks": ""
             }
            },
            "type": "scatterternary"
           }
          ],
          "surface": [
           {
            "colorbar": {
             "outlinewidth": 0,
             "ticks": ""
            },
            "colorscale": [
             [
              0,
              "#0d0887"
             ],
             [
              0.1111111111111111,
              "#46039f"
             ],
             [
              0.2222222222222222,
              "#7201a8"
             ],
             [
              0.3333333333333333,
              "#9c179e"
             ],
             [
              0.4444444444444444,
              "#bd3786"
             ],
             [
              0.5555555555555556,
              "#d8576b"
             ],
             [
              0.6666666666666666,
              "#ed7953"
             ],
             [
              0.7777777777777778,
              "#fb9f3a"
             ],
             [
              0.8888888888888888,
              "#fdca26"
             ],
             [
              1,
              "#f0f921"
             ]
            ],
            "type": "surface"
           }
          ],
          "table": [
           {
            "cells": {
             "fill": {
              "color": "#EBF0F8"
             },
             "line": {
              "color": "white"
             }
            },
            "header": {
             "fill": {
              "color": "#C8D4E3"
             },
             "line": {
              "color": "white"
             }
            },
            "type": "table"
           }
          ]
         },
         "layout": {
          "annotationdefaults": {
           "arrowcolor": "#2a3f5f",
           "arrowhead": 0,
           "arrowwidth": 1
          },
          "autotypenumbers": "strict",
          "coloraxis": {
           "colorbar": {
            "outlinewidth": 0,
            "ticks": ""
           }
          },
          "colorscale": {
           "diverging": [
            [
             0,
             "#8e0152"
            ],
            [
             0.1,
             "#c51b7d"
            ],
            [
             0.2,
             "#de77ae"
            ],
            [
             0.3,
             "#f1b6da"
            ],
            [
             0.4,
             "#fde0ef"
            ],
            [
             0.5,
             "#f7f7f7"
            ],
            [
             0.6,
             "#e6f5d0"
            ],
            [
             0.7,
             "#b8e186"
            ],
            [
             0.8,
             "#7fbc41"
            ],
            [
             0.9,
             "#4d9221"
            ],
            [
             1,
             "#276419"
            ]
           ],
           "sequential": [
            [
             0,
             "#0d0887"
            ],
            [
             0.1111111111111111,
             "#46039f"
            ],
            [
             0.2222222222222222,
             "#7201a8"
            ],
            [
             0.3333333333333333,
             "#9c179e"
            ],
            [
             0.4444444444444444,
             "#bd3786"
            ],
            [
             0.5555555555555556,
             "#d8576b"
            ],
            [
             0.6666666666666666,
             "#ed7953"
            ],
            [
             0.7777777777777778,
             "#fb9f3a"
            ],
            [
             0.8888888888888888,
             "#fdca26"
            ],
            [
             1,
             "#f0f921"
            ]
           ],
           "sequentialminus": [
            [
             0,
             "#0d0887"
            ],
            [
             0.1111111111111111,
             "#46039f"
            ],
            [
             0.2222222222222222,
             "#7201a8"
            ],
            [
             0.3333333333333333,
             "#9c179e"
            ],
            [
             0.4444444444444444,
             "#bd3786"
            ],
            [
             0.5555555555555556,
             "#d8576b"
            ],
            [
             0.6666666666666666,
             "#ed7953"
            ],
            [
             0.7777777777777778,
             "#fb9f3a"
            ],
            [
             0.8888888888888888,
             "#fdca26"
            ],
            [
             1,
             "#f0f921"
            ]
           ]
          },
          "colorway": [
           "#636efa",
           "#EF553B",
           "#00cc96",
           "#ab63fa",
           "#FFA15A",
           "#19d3f3",
           "#FF6692",
           "#B6E880",
           "#FF97FF",
           "#FECB52"
          ],
          "font": {
           "color": "#2a3f5f"
          },
          "geo": {
           "bgcolor": "white",
           "lakecolor": "white",
           "landcolor": "white",
           "showlakes": true,
           "showland": true,
           "subunitcolor": "#C8D4E3"
          },
          "hoverlabel": {
           "align": "left"
          },
          "hovermode": "closest",
          "mapbox": {
           "style": "light"
          },
          "paper_bgcolor": "white",
          "plot_bgcolor": "white",
          "polar": {
           "angularaxis": {
            "gridcolor": "#EBF0F8",
            "linecolor": "#EBF0F8",
            "ticks": ""
           },
           "bgcolor": "white",
           "radialaxis": {
            "gridcolor": "#EBF0F8",
            "linecolor": "#EBF0F8",
            "ticks": ""
           }
          },
          "scene": {
           "xaxis": {
            "backgroundcolor": "white",
            "gridcolor": "#DFE8F3",
            "gridwidth": 2,
            "linecolor": "#EBF0F8",
            "showbackground": true,
            "ticks": "",
            "zerolinecolor": "#EBF0F8"
           },
           "yaxis": {
            "backgroundcolor": "white",
            "gridcolor": "#DFE8F3",
            "gridwidth": 2,
            "linecolor": "#EBF0F8",
            "showbackground": true,
            "ticks": "",
            "zerolinecolor": "#EBF0F8"
           },
           "zaxis": {
            "backgroundcolor": "white",
            "gridcolor": "#DFE8F3",
            "gridwidth": 2,
            "linecolor": "#EBF0F8",
            "showbackground": true,
            "ticks": "",
            "zerolinecolor": "#EBF0F8"
           }
          },
          "shapedefaults": {
           "line": {
            "color": "#2a3f5f"
           }
          },
          "ternary": {
           "aaxis": {
            "gridcolor": "#DFE8F3",
            "linecolor": "#A2B1C6",
            "ticks": ""
           },
           "baxis": {
            "gridcolor": "#DFE8F3",
            "linecolor": "#A2B1C6",
            "ticks": ""
           },
           "bgcolor": "white",
           "caxis": {
            "gridcolor": "#DFE8F3",
            "linecolor": "#A2B1C6",
            "ticks": ""
           }
          },
          "title": {
           "x": 0.05
          },
          "xaxis": {
           "automargin": true,
           "gridcolor": "#EBF0F8",
           "linecolor": "#EBF0F8",
           "ticks": "",
           "title": {
            "standoff": 15
           },
           "zerolinecolor": "#EBF0F8",
           "zerolinewidth": 2
          },
          "yaxis": {
           "automargin": true,
           "gridcolor": "#EBF0F8",
           "linecolor": "#EBF0F8",
           "ticks": "",
           "title": {
            "standoff": 15
           },
           "zerolinecolor": "#EBF0F8",
           "zerolinewidth": 2
          }
         }
        },
        "xaxis": {
         "anchor": "y",
         "domain": [
          0,
          1
         ],
         "showticklabels": true,
         "visible": true
        },
        "yaxis": {
         "anchor": "x",
         "domain": [
          0,
          1
         ]
        }
       }
      }
     },
     "metadata": {},
     "output_type": "display_data"
    }
   ],
   "source": [
    "StatsForecast.plot(df_sf, engine='plotly')"
   ]
  },
  {
   "cell_type": "code",
   "execution_count": 11,
   "metadata": {},
   "outputs": [
    {
     "name": "stdout",
     "output_type": "stream",
     "text": [
      "273\n"
     ]
    }
   ],
   "source": [
    "#Auto ARIMA pmdarima\n",
    "\n",
    "import pmdarima as pm\n",
    "import pmdarima.model_selection as pmms\n",
    "\n",
    "l = 0.75\n",
    "y = df_date_sum[\"Qty\"].to_numpy()\n",
    "# y = pm.datasets.load_wineind()\n",
    "train, test = pmms.train_test_split(y, train_size= l)\n",
    "\n",
    "yl = int(len(y)*l)\n",
    "print(len(train))"
   ]
  },
  {
   "cell_type": "code",
   "execution_count": 18,
   "metadata": {},
   "outputs": [
    {
     "name": "stdout",
     "output_type": "stream",
     "text": [
      "Performing stepwise search to minimize aic\n",
      " ARIMA(0,1,0)(0,1,0)[30]             : AIC=2373.226, Time=0.05 sec\n",
      " ARIMA(1,1,0)(1,1,0)[30]             : AIC=2242.176, Time=0.41 sec\n",
      " ARIMA(0,1,1)(0,1,1)[30]             : AIC=inf, Time=1.62 sec\n",
      " ARIMA(1,1,0)(0,1,0)[30]             : AIC=2306.203, Time=0.05 sec\n",
      " ARIMA(1,1,0)(2,1,0)[30]             : AIC=2220.319, Time=1.47 sec\n",
      " ARIMA(1,1,0)(2,1,1)[30]             : AIC=inf, Time=5.19 sec\n",
      " ARIMA(1,1,0)(1,1,1)[30]             : AIC=inf, Time=2.08 sec\n",
      " ARIMA(0,1,0)(2,1,0)[30]             : AIC=2294.519, Time=0.97 sec\n",
      " ARIMA(2,1,0)(2,1,0)[30]             : AIC=2181.947, Time=1.85 sec\n",
      " ARIMA(2,1,0)(1,1,0)[30]             : AIC=2207.759, Time=0.52 sec\n",
      " ARIMA(2,1,0)(2,1,1)[30]             : AIC=inf, Time=7.83 sec\n",
      " ARIMA(2,1,0)(1,1,1)[30]             : AIC=inf, Time=2.08 sec\n",
      " ARIMA(2,1,1)(2,1,0)[30]             : AIC=2136.275, Time=6.63 sec\n",
      " ARIMA(2,1,1)(1,1,0)[30]             : AIC=2161.301, Time=1.90 sec\n",
      " ARIMA(2,1,1)(2,1,1)[30]             : AIC=inf, Time=13.51 sec\n",
      " ARIMA(2,1,1)(1,1,1)[30]             : AIC=inf, Time=3.38 sec\n",
      " ARIMA(1,1,1)(2,1,0)[30]             : AIC=2134.371, Time=5.56 sec\n",
      " ARIMA(1,1,1)(1,1,0)[30]             : AIC=2159.301, Time=1.10 sec\n",
      " ARIMA(1,1,1)(2,1,1)[30]             : AIC=inf, Time=8.51 sec\n",
      " ARIMA(1,1,1)(1,1,1)[30]             : AIC=inf, Time=2.65 sec\n",
      " ARIMA(0,1,1)(2,1,0)[30]             : AIC=2133.355, Time=4.32 sec\n",
      " ARIMA(0,1,1)(1,1,0)[30]             : AIC=2158.157, Time=0.80 sec\n",
      " ARIMA(0,1,1)(2,1,1)[30]             : AIC=inf, Time=10.18 sec\n",
      " ARIMA(0,1,1)(1,1,1)[30]             : AIC=inf, Time=1.94 sec\n",
      " ARIMA(0,1,2)(2,1,0)[30]             : AIC=2134.344, Time=5.14 sec\n",
      " ARIMA(1,1,2)(2,1,0)[30]             : AIC=inf, Time=9.46 sec\n",
      " ARIMA(0,1,1)(2,1,0)[30] intercept   : AIC=2134.367, Time=6.51 sec\n",
      "\n",
      "Best model:  ARIMA(0,1,1)(2,1,0)[30]          \n",
      "Total fit time: 105.699 seconds\n"
     ]
    },
    {
     "data": {
      "image/png": "[encoded data removed]",
      "text/plain": [
       "<Figure size 720x360 with 1 Axes>"
      ]
     },
     "metadata": {
      "needs_background": "light"
     },
     "output_type": "display_data"
    }
   ],
   "source": [
    "model = pm.auto_arima(train, \n",
    "                      start_p=0, \n",
    "                      d=1, \n",
    "                      start_q=0,\n",
    "                      max_p=2, \n",
    "                      max_q=2,\n",
    "                      start_P=0,\n",
    "                      D=1,\n",
    "                      start_Q=0, \n",
    "                      max_P=2,\n",
    "                      max_Q=2, \n",
    "                      m=30, \n",
    "                      seasonal=True,\n",
    "                      stationary=False,\n",
    "                      trace=True,\n",
    "                      suppress_warnings=True, \n",
    "                      stepwise=True)\n",
    "forecast = model.predict(test.shape[0])\n",
    "\n",
    "\n",
    "x = np.arange(y.shape[0])\n",
    "plt.figure(figsize=(10,5))\n",
    "plt.plot(x[:yl], train, c='blue')\n",
    "plt.plot(x[yl:], forecast, c='green')\n",
    "plt.plot(x[yl:], test, c='orange', linestyle=\"--\")\n",
    "plt.show()"
   ]
  },
  {
   "cell_type": "code",
   "execution_count": 19,
   "metadata": {},
   "outputs": [
    {
     "data": {
      "image/png": "[encoded data removed]",
      "text/plain": [
       "<Figure size 720x360 with 1 Axes>"
      ]
     },
     "metadata": {
      "needs_background": "light"
     },
     "output_type": "display_data"
    }
   ],
   "source": [
    "plt.figure(figsize=(10,5))\n",
    "plt.plot(x[yl:], forecast, c='green')\n",
    "plt.plot(x[yl:], test, c='orange', linestyle=\"--\")\n",
    "plt.show()"
   ]
  },
  {
   "cell_type": "code",
   "execution_count": 20,
   "metadata": {},
   "outputs": [
    {
     "name": "stdout",
     "output_type": "stream",
     "text": [
      "MSE  =  384.7832019549603\n",
      "MAE  =  15.527526283537226\n"
     ]
    }
   ],
   "source": [
    "from sklearn.metrics import mean_squared_error\n",
    "from sklearn.metrics import mean_absolute_error\n",
    "mse = mean_squared_error(test, forecast)\n",
    "mae = mean_absolute_error(test, forecast)\n",
    "print(\"MSE\",\" = \", mse)\n",
    "print(\"MAE\",\" = \", mae)"
   ]
  },
  {
   "cell_type": "code",
   "execution_count": 21,
   "metadata": {},
   "outputs": [],
   "source": [
    "from statsmodels.tsa.arima.model import ARIMA\n",
    "\n",
    "df_arima = df_date_sum.copy()\n",
    "l = 0.75\n",
    "l_df = int(len(df_arima[\"Qty\"])*l)\n",
    "lg_df = len(df_arima[\"Qty\"])"
   ]
  },
  {
   "cell_type": "code",
   "execution_count": 25,
   "metadata": {},
   "outputs": [
    {
     "data": {
      "text/plain": [
       "<AxesSubplot: >"
      ]
     },
     "execution_count": 25,
     "metadata": {},
     "output_type": "execute_result"
    },
    {
     "data": {
      "image/png": "[encoded data removed]",
      "text/plain": [
       "<Figure size 720x360 with 1 Axes>"
      ]
     },
     "metadata": {
      "needs_background": "light"
     },
     "output_type": "display_data"
    }
   ],
   "source": [
    "model = ARIMA(df_arima[\"Qty\"],order=(0,1,1),seasonal_order=(2,1,0,30))\n",
    "model_fit = model.fit()\n",
    "\n",
    "df_arima[\"forecast\"] = model_fit.predict(start=l_df, end=lg_df, dynamic=True)\n",
    "df_arima[[\"Qty\", \"forecast\"]].plot(figsize=(10,5))"
   ]
  },
  {
   "cell_type": "code",
   "execution_count": 23,
   "metadata": {},
   "outputs": [
    {
     "name": "stdout",
     "output_type": "stream",
     "text": [
      "MSE  =  375.104242222994\n",
      "MAE  =  15.4129535524451\n"
     ]
    }
   ],
   "source": [
    "arima_test = np.array(df_arima[\"Qty\"][l_df:])\n",
    "arima_forecast = np.array(df_arima[\"forecast\"][l_df:])\n",
    "mse = mean_squared_error(arima_test, arima_forecast)\n",
    "mae = mean_absolute_error(arima_test, arima_forecast)\n",
    "print(\"MSE\",\" = \", mse)\n",
    "print(\"MAE\",\" = \", mae)"
   ]
  }
 ],
 "metadata": {
  "kernelspec": {
   "display_name": "Python 3",
   "language": "python",
   "name": "python3"
  },
  "language_info": {
   "codemirror_mode": {
    "name": "ipython",
    "version": 3
   },
   "file_extension": ".py",
   "mimetype": "text/x-python",
   "name": "python",
   "nbconvert_exporter": "python",
   "pygments_lexer": "ipython3",
   "version": "3.10.4"
  },
  "orig_nbformat": 4
 },
 "nbformat": 4,
 "nbformat_minor": 2
}
